{
  "nbformat": 4,
  "nbformat_minor": 0,
  "metadata": {
    "colab": {
      "provenance": [],
      "authorship_tag": "ABX9TyPgU7WuOwpNWCCpA2OOHR01",
      "include_colab_link": true
    },
    "kernelspec": {
      "name": "python3",
      "display_name": "Python 3"
    },
    "language_info": {
      "name": "python"
    }
  },
  "cells": [
    {
      "cell_type": "markdown",
      "metadata": {
        "id": "view-in-github",
        "colab_type": "text"
      },
      "source": [
        "<a href=\"https://colab.research.google.com/github/DrR7data/plantilla-dock/blob/main/cloud_colab1.ipynb\" target=\"_parent\"><img src=\"https://colab.research.google.com/assets/colab-badge.svg\" alt=\"Open In Colab\"/></a>"
      ]
    },
    {
      "cell_type": "markdown",
      "source": [
        "# Realizando mi primer proyecto en colab\n"
      ],
      "metadata": {
        "id": "5dIpiBaeKukA"
      }
    },
    {
      "cell_type": "markdown",
      "source": [],
      "metadata": {
        "id": "S_JB4VRwKTLd"
      }
    },
    {
      "cell_type": "code",
      "source": [
        "#Print\n",
        "print(\"Hello world\")\n"
      ],
      "metadata": {
        "colab": {
          "base_uri": "https://localhost:8080/"
        },
        "id": "O7966oCpKUo3",
        "outputId": "8b1d5b27-e98c-4f72-f8d7-322996a123e0"
      },
      "execution_count": 2,
      "outputs": [
        {
          "output_type": "stream",
          "name": "stdout",
          "text": [
            "Hello world\n"
          ]
        }
      ]
    },
    {
      "cell_type": "code",
      "source": [
        "fname = \"Juan\"\n",
        "lname = \"Perez\"\n",
        "age = 25\n",
        "\n",
        "print(f\"El joven {fname} se apellida {lname} y tiene {age}\")"
      ],
      "metadata": {
        "colab": {
          "base_uri": "https://localhost:8080/"
        },
        "id": "J86F5WsZK-Mr",
        "outputId": "b7d6fadb-a915-44c7-b1d5-11ca9998862c"
      },
      "execution_count": 3,
      "outputs": [
        {
          "output_type": "stream",
          "name": "stdout",
          "text": [
            "El joven Juan se apellida Perez y tiene 25\n"
          ]
        }
      ]
    },
    {
      "cell_type": "markdown",
      "source": [
        "# Segunda parte\n",
        " * One\n",
        " * Two\n",
        " * Tree"
      ],
      "metadata": {
        "id": "oX5lNdQ9Ld--"
      }
    }
  ]
}